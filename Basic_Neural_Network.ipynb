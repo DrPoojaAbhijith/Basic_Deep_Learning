{
  "nbformat": 4,
  "nbformat_minor": 0,
  "metadata": {
    "colab": {
      "provenance": []
    },
    "kernelspec": {
      "name": "python3",
      "display_name": "Python 3"
    },
    "language_info": {
      "name": "python"
    }
  },
  "cells": [
    {
      "cell_type": "markdown",
      "source": [
        "##Introduction to Neural Networks:\n",
        "\n",
        "**Introduction:**\n",
        "\n",
        "Neural networks, primarily known for their applications in classification tasks, can also be employed for regression problems. In this exercise, we aim to demonstrate the usage of a simple neural network in predicting a linear relationship between input features and the output.\n",
        "\n",
        "**Objective:**\n",
        "\n",
        "The primary objective is to predict the output value y based on two input features x1 and x2 using a basic neural network model with the equation y=3x1+4x2. The neural network will be trained using a feed-forward and back-propagation mechanism to minimize the error between the predicted and actual values.\n",
        "\n",
        "**Methodology:**\n",
        "\n",
        "1. Activation Functions\n",
        "2. Sample Data\n",
        "3. Feed Forward\n",
        "4. Error Calculation\n",
        "5. Back Propagation\n",
        "6. Training\n",
        "7. Visualization\n",
        "\n",
        "\n",
        "**Expected Outcome:**\n",
        "After sufficient training, the predicted ypred should be close to the actual value yactual=17. The error graph should show a declining trend, indicating that the model is learning and improving its predictions over time."
      ],
      "metadata": {
        "id": "OcadTI5X9gDY"
      }
    },
    {
      "cell_type": "markdown",
      "source": [
        "##1. Activation Functions:\n",
        "● Define the sigmoid function, a popular activation function used in neural\n",
        "networks.\n",
        "\n",
        "● Define the tanh function, which is another common activation function that returns values between -1 and 1.\n",
        "\n",
        "● Define the relu function, which returns positive values as they are and\n",
        "zeroes out negative values."
      ],
      "metadata": {
        "id": "04BVt9x9-aEr"
      }
    },
    {
      "cell_type": "code",
      "source": [
        "# Import the necessary libraries\n",
        "\n",
        "import numpy as np\n",
        "import pandas as pd\n",
        "import matplotlib.pyplot as plt\n",
        "import math"
      ],
      "metadata": {
        "id": "6g3_mUnP_KYN"
      },
      "execution_count": 5,
      "outputs": []
    },
    {
      "cell_type": "code",
      "source": [
        "# Sigmoid Function\n",
        "# s(x) = 1/(1+e^(-x)), where e ≈ 2.71\n",
        "\n",
        "def sigmoid(x):\n",
        "  s = 1/(1+math.e**(-x))\n",
        "  return s\n"
      ],
      "metadata": {
        "id": "tXVuIars-KHs"
      },
      "execution_count": 11,
      "outputs": []
    },
    {
      "cell_type": "code",
      "source": [
        "sigmoid(5)"
      ],
      "metadata": {
        "colab": {
          "base_uri": "https://localhost:8080/"
        },
        "id": "CCZzZdEyBKDi",
        "outputId": "c56d6e1a-80ea-4d1c-fc45-65ec7435d62a"
      },
      "execution_count": 12,
      "outputs": [
        {
          "output_type": "execute_result",
          "data": {
            "text/plain": [
              "0.9933071490757153"
            ]
          },
          "metadata": {},
          "execution_count": 12
        }
      ]
    },
    {
      "cell_type": "code",
      "source": [
        "# Tanh Function\n",
        "# tanh(x) = (e^(x) - e^(-x)) / (e^(x) + e^(-x))\n",
        "\n",
        "def tanh(x):\n",
        "  num  = (np.e**(x) - np.e**(-x))\n",
        "  deno = (np.e**(x) + np.e**(-x))\n",
        "  tan_fun = num/deno\n",
        "  return tan_fun"
      ],
      "metadata": {
        "id": "AXNxk1SeBKAm"
      },
      "execution_count": 13,
      "outputs": []
    },
    {
      "cell_type": "code",
      "source": [
        "tanh(5)"
      ],
      "metadata": {
        "colab": {
          "base_uri": "https://localhost:8080/"
        },
        "id": "AfmLtKIbC64H",
        "outputId": "f85ba7ae-7677-4703-dae4-98cc275d5c45"
      },
      "execution_count": 16,
      "outputs": [
        {
          "output_type": "execute_result",
          "data": {
            "text/plain": [
              "0.999909204262595"
            ]
          },
          "metadata": {},
          "execution_count": 16
        }
      ]
    },
    {
      "cell_type": "code",
      "source": [
        "# Relu Function\n",
        "# Relu(x) = x  when x>=0\n",
        "#           0  when x<0\n",
        "\n",
        "def relu(x):\n",
        "  if x>=0:\n",
        "    return x\n",
        "  else:\n",
        "    return 0"
      ],
      "metadata": {
        "id": "hwo7SDxNDCuh"
      },
      "execution_count": 17,
      "outputs": []
    },
    {
      "cell_type": "code",
      "source": [
        "relu(5)"
      ],
      "metadata": {
        "colab": {
          "base_uri": "https://localhost:8080/"
        },
        "id": "pFeP_eTeDvr6",
        "outputId": "163f07d9-fde3-4f46-cbe1-bf9a5d17963e"
      },
      "execution_count": 18,
      "outputs": [
        {
          "output_type": "execute_result",
          "data": {
            "text/plain": [
              "5"
            ]
          },
          "metadata": {},
          "execution_count": 18
        }
      ]
    },
    {
      "cell_type": "markdown",
      "source": [
        "## 2. Sample Data:\n",
        "● Use the following sample data for training: x1=3, x2=2, yactual=17\n"
      ],
      "metadata": {
        "id": "dbLqv4tTEAUl"
      }
    },
    {
      "cell_type": "code",
      "source": [
        "x1 = 3\n",
        "x2 = 2\n",
        "yactual = 17"
      ],
      "metadata": {
        "id": "dIDckY7kD_5n"
      },
      "execution_count": 30,
      "outputs": []
    },
    {
      "cell_type": "markdown",
      "source": [
        "# 3. Feed Forward:<br>\n",
        "● Initialize the random weights w1 and w2 between 1 and 10.<br>\n",
        "● Predict the output ypred using the equation ypred= x1 x w1 + x2 x w2"
      ],
      "metadata": {
        "id": "r33-pzlMEW69"
      }
    },
    {
      "cell_type": "code",
      "source": [
        "w1 = np.random.randint(1, 10)\n",
        "w2 = np.random.randint(1, 10)\n",
        "\n",
        "def feed_forward(x1,x2):\n",
        "  ypred = x1*w1 + x2*w2\n",
        "  return ypred"
      ],
      "metadata": {
        "id": "V9qPna_eDvo-"
      },
      "execution_count": 53,
      "outputs": []
    },
    {
      "cell_type": "code",
      "source": [
        "ypred = feed_forward(5,4)\n",
        "print(f\"The Weights are:{w1,w2}\")\n",
        "print(f\"The predicted value is: {ypred}\")"
      ],
      "metadata": {
        "colab": {
          "base_uri": "https://localhost:8080/"
        },
        "id": "T20TyyJdFjo6",
        "outputId": "039b1ece-d7ef-4820-9e04-fc7b4c0ec596"
      },
      "execution_count": 35,
      "outputs": [
        {
          "output_type": "stream",
          "name": "stdout",
          "text": [
            "The Weights are:(7, 6)\n",
            "The predicted value is: 59\n"
          ]
        }
      ]
    },
    {
      "cell_type": "markdown",
      "source": [
        "# 4. Error Calculation:<br>\n",
        "● Compute the squared error as error = (yactual-ypred)*(yactual-ypred)"
      ],
      "metadata": {
        "id": "mt53Li4MGU6R"
      }
    },
    {
      "cell_type": "code",
      "source": [
        "# error = (yactual - ypred)^2\n",
        "\n",
        "squared_error = (yactual - ypred)**2\n",
        "print(f\"Actual value is: {yactual}\")\n",
        "print(f\"Predicted value is: {ypred}\")\n",
        "print(f\"Squared value is: {squared_error}\")"
      ],
      "metadata": {
        "colab": {
          "base_uri": "https://localhost:8080/"
        },
        "id": "RGXhIREc-KW7",
        "outputId": "8d15efe9-f4c2-43c8-89aa-968d0d4eeed3"
      },
      "execution_count": 36,
      "outputs": [
        {
          "output_type": "stream",
          "name": "stdout",
          "text": [
            "Actual value is: 17\n",
            "Predicted value is: 59\n",
            "Squared value is: 1764\n"
          ]
        }
      ]
    },
    {
      "cell_type": "markdown",
      "source": [
        "## 5. Back Propagation:\n",
        "\n",
        "● Compute the gradients of the error with respect to the weights.\n",
        "\n",
        "● Update the weights using the computed gradients and a learning rate."
      ],
      "metadata": {
        "id": "SkMVOBz9IhZk"
      }
    },
    {
      "cell_type": "code",
      "source": [
        "# # Calculate derivates\n",
        "# # w1 = w1 - de/dw\n",
        "\n",
        "# dedw1 = 2*(yactual-ypred)*(-x1)\n",
        "# dedw2 = 2*(yactual-ypred)*(-x2)\n",
        "\n",
        "# # Weightage Updation\n",
        "# w1 = w1 - dedw1\n",
        "# w2 = w2 - dedw2"
      ],
      "metadata": {
        "id": "zc5B-7prX8Ss"
      },
      "execution_count": 55,
      "outputs": []
    },
    {
      "cell_type": "code",
      "source": [
        "#weight new (w_new) = weight old (w_old)- learning rate (dL/dw)\n",
        "#dL/dw - derivative of Loss wrt derivate of weight (slope of weight), here w = w_old\n",
        "#dL/dw = dLoss/dOutput * dOutput/dWeight,    here Output is the weight related to the weight\n",
        "\n",
        "lr_rate = 0.01\n",
        "def back_propogate(weight, loss):\n",
        "  weight_new = weight - (lr_rate*(loss/weight))\n",
        "  return weight_new\n",
        "\n",
        "w1_new = back_propogate(w1, squared_error)\n",
        "w2_new = back_propogate(w2, squared_error)\n",
        "print(f\"Old and New weight 1 are : {w1,w1_new} Old and New weight 2 are : {w2,w2_new}\")"
      ],
      "metadata": {
        "colab": {
          "base_uri": "https://localhost:8080/"
        },
        "id": "nzWPp8DAJlTp",
        "outputId": "386bd9bc-50f4-431e-8374-b79f91ce0123"
      },
      "execution_count": 40,
      "outputs": [
        {
          "output_type": "stream",
          "name": "stdout",
          "text": [
            "Old and New weight 1 are : (7, 4.48) Old and New weight 2 are : (6, 3.06)\n"
          ]
        }
      ]
    },
    {
      "cell_type": "markdown",
      "source": [
        "## 6. Training:\n",
        "\n",
        "● The above steps (Feed Forward to Back Propagation) are performed\n",
        "iteratively (20 times in this example) to refine the weights and minimize\n",
        "the error."
      ],
      "metadata": {
        "id": "xzf-K1ywN1YW"
      }
    },
    {
      "cell_type": "code",
      "source": [
        "\n",
        "lr = 0.01\n",
        "w1 = np.random.randint(1, 10)\n",
        "w2 = np.random.randint(1, 10)\n",
        "w1_list = []\n",
        "w2_list = []\n",
        "error_list = []\n",
        "y_pred_list = []\n",
        "\n",
        "for epoch in range(20):\n",
        "  # Collect info in list\n",
        "  w1_list.append(w1)\n",
        "  w2_list.append(w2)\n",
        "\n",
        "  # Feed Forward\n",
        "  # Affin Equation\n",
        "  ypred = x1*w1 + x2*w2\n",
        "  y_pred_list.append(ypred)\n",
        "\n",
        "  # Error Calculation\n",
        "  # error\n",
        "  error = (yactual - ypred)**2\n",
        "  error_list.append(error)\n",
        "\n",
        "  # back Prop\n",
        "  # Calculate the derivates\n",
        "  dedw1 = 2*(yactual-ypred)*(-x1)\n",
        "  dedw2 = 2*(yactual-ypred)*(-x2)\n",
        "\n",
        "  # Update the weights\n",
        "  w1 = w1 - lr * dedw1\n",
        "  w2 = w2 - lr * dedw2\n",
        "print(f\"Value of y_predicted: {ypred} & should be close to {yactual}\")"
      ],
      "metadata": {
        "colab": {
          "base_uri": "https://localhost:8080/"
        },
        "id": "NdLSJb6LZKB5",
        "outputId": "3e0d1d2a-86ab-431c-9bb9-94539b7cb91f"
      },
      "execution_count": 57,
      "outputs": [
        {
          "output_type": "stream",
          "name": "stdout",
          "text": [
            "Value of y_predicted: 17.03604087780619 & should be close to 17\n"
          ]
        }
      ]
    },
    {
      "cell_type": "markdown",
      "source": [
        "## 7. Visualization:\n",
        "\n",
        "    ● Plot the progression of the error across epochs.\n",
        "    ● Plot the progression of ypred across epochs"
      ],
      "metadata": {
        "id": "2EvZWfkRWBzU"
      }
    },
    {
      "cell_type": "code",
      "source": [
        "# Error across the epochs\n",
        "plt.figure(figsize=(5, 5))\n",
        "plt.plot(error_list)\n",
        "plt.title(\"Error graphs\")\n",
        "plt.xticks(np.arange(0, 21))\n",
        "plt.xlabel(\"epochs\")\n",
        "plt.ylabel(\"error\")\n",
        "print(error)"
      ],
      "metadata": {
        "colab": {
          "base_uri": "https://localhost:8080/",
          "height": 504
        },
        "id": "5yX1N_QXNrrm",
        "outputId": "acdb027c-d869-4fda-bccb-968f971e1c5f"
      },
      "execution_count": 58,
      "outputs": [
        {
          "output_type": "stream",
          "name": "stdout",
          "text": [
            "0.0012989448730407372\n"
          ]
        },
        {
          "output_type": "display_data",
          "data": {
            "text/plain": [
              "<Figure size 500x500 with 1 Axes>"
            ],
            "image/png": "[encoded data removed]"
          },
          "metadata": {}
        }
      ]
    },
    {
      "cell_type": "code",
      "source": [
        "print(f\"Y Actual is : {yactual}\")\n",
        "print(f\"Y Predicted is {np.round(ypred,2)}\")\n",
        "plt.xticks(np.arange(0, 21))\n",
        "plt.title(\"Y_pred progression\")\n",
        "plt.xlabel(\"Epochs\")\n",
        "plt.ylabel(\"y predicted\")\n",
        "plt.plot(y_pred_list)\n"
      ],
      "metadata": {
        "colab": {
          "base_uri": "https://localhost:8080/",
          "height": 524
        },
        "id": "x7_mxp0nWQVj",
        "outputId": "6b0910b5-6ff7-4289-f29e-25d304b40a5d"
      },
      "execution_count": 61,
      "outputs": [
        {
          "output_type": "stream",
          "name": "stdout",
          "text": [
            "Y Actual is : 17\n",
            "Y Predicted is 17.04\n"
          ]
        },
        {
          "output_type": "execute_result",
          "data": {
            "text/plain": [
              "[<matplotlib.lines.Line2D at 0x7f9d4553e7d0>]"
            ]
          },
          "metadata": {},
          "execution_count": 61
        },
        {
          "output_type": "display_data",
          "data": {
            "text/plain": [
              "<Figure size 640x480 with 1 Axes>"
            ],
            "image/png": "[encoded data removed]"
          },
          "metadata": {}
        }
      ]
    }
  ]
}